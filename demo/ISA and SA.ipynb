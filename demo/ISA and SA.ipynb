{
 "cells": [
  {
   "cell_type": "code",
   "execution_count": 1,
   "metadata": {},
   "outputs": [],
   "source": [
    "from mmseg.models.decode_heads.orgseg_head import ISA_atten, SelfAttentionBlock\n",
    "# def __init__(self, isa_channels, in_channels, channels, down_factor=(8, 8)):\n",
    "# class SelfAttentionBlock(_SelfAttentionBlock):\n",
    "#     def __init__(self, in_channels, channels, conv_cfg, norm_cfg, act_cfg):\n",
    "SA = SelfAttentionBlock(in_channels=512, channels=512, conv_cfg=None, norm_cfg=None, act_cfg=None)\n",
    "ISA = ISA_atten(isa_channels=512, in_channels=512, channels=512)"
   ]
  },
  {
   "cell_type": "code",
   "execution_count": 2,
   "metadata": {},
   "outputs": [
    {
     "name": "stdout",
     "output_type": "stream",
     "text": [
      "06/13 19:27:07 - mmengine - \u001b[5m\u001b[4m\u001b[33mWARNING\u001b[0m - Unsupported operator aten::mul encountered 1 time(s)\n",
      "06/13 19:27:07 - mmengine - \u001b[5m\u001b[4m\u001b[33mWARNING\u001b[0m - Unsupported operator aten::softmax encountered 1 time(s)\n",
      "{'flops': '0.301T', 'params': '1.576M'}\n"
     ]
    }
   ],
   "source": [
    "from mmengine.analysis import get_model_complexity_info\n",
    "from mmengine.analysis.print_helper import _format_size\n",
    "\n",
    "result = {}\n",
    "outputs = get_model_complexity_info(\n",
    "        SA,\n",
    "        (512,128,128),\n",
    "        show_table=False,\n",
    "        show_arch=False)\n",
    "\n",
    "result['flops'] = _format_size(outputs['flops'])\n",
    "result['params'] = _format_size(outputs['params'])\n",
    "print(result)"
   ]
  },
  {
   "cell_type": "code",
   "execution_count": 3,
   "metadata": {},
   "outputs": [
    {
     "name": "stdout",
     "output_type": "stream",
     "text": [
      "06/13 19:27:11 - mmengine - \u001b[5m\u001b[4m\u001b[33mWARNING\u001b[0m - Unsupported operator aten::add_ encountered 12 time(s)\n",
      "06/13 19:27:11 - mmengine - \u001b[5m\u001b[4m\u001b[33mWARNING\u001b[0m - Unsupported operator aten::mul encountered 2 time(s)\n",
      "06/13 19:27:11 - mmengine - \u001b[5m\u001b[4m\u001b[33mWARNING\u001b[0m - Unsupported operator aten::softmax encountered 2 time(s)\n",
      "06/13 19:27:12 - mmengine - \u001b[5m\u001b[4m\u001b[33mWARNING\u001b[0m - Unsupported operator aten::batch_norm encountered 12 time(s)\n",
      "{'flops': '0.105T', 'params': '6.043M'}\n"
     ]
    }
   ],
   "source": [
    "outputs = get_model_complexity_info(\n",
    "        ISA,\n",
    "        (512,128,128),\n",
    "        show_table=False,\n",
    "        show_arch=False)\n",
    "\n",
    "result['flops'] = _format_size(outputs['flops'])\n",
    "result['params'] = _format_size(outputs['params'])\n",
    "print(result)"
   ]
  },
  {
   "cell_type": "code",
   "execution_count": null,
   "metadata": {},
   "outputs": [],
   "source": []
  }
 ],
 "metadata": {
  "kernelspec": {
   "display_name": "orgseg",
   "language": "python",
   "name": "python3"
  },
  "language_info": {
   "codemirror_mode": {
    "name": "ipython",
    "version": 3
   },
   "file_extension": ".py",
   "mimetype": "text/x-python",
   "name": "python",
   "nbconvert_exporter": "python",
   "pygments_lexer": "ipython3",
   "version": "3.8.16"
  },
  "orig_nbformat": 4
 },
 "nbformat": 4,
 "nbformat_minor": 2
}
